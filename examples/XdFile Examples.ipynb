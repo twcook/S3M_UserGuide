{
 "cells": [
  {
   "cell_type": "markdown",
   "metadata": {
    "slideshow": {
     "slide_type": "slide"
    }
   },
   "source": [
    "# Examples using the XdFileType"
   ]
  },
  {
   "cell_type": "markdown",
   "metadata": {
    "slideshow": {
     "slide_type": "slide"
    }
   },
   "source": [
    "**Set the path and import the extended datatype.**"
   ]
  },
  {
   "cell_type": "code",
   "execution_count": null,
   "metadata": {},
   "outputs": [],
   "source": [
    "import os\n",
    "# set the current working directory to the project parent.\n",
    "os.chdir(os.path.abspath(os.path.join(os.getcwd(), os.pardir)))"
   ]
  },
  {
   "cell_type": "code",
   "execution_count": null,
   "metadata": {
    "slideshow": {
     "slide_type": "fragment"
    }
   },
   "outputs": [],
   "source": [
    "from S3MPython.xdt import XdFileType"
   ]
  },
  {
   "cell_type": "markdown",
   "metadata": {
    "slideshow": {
     "slide_type": "slide"
    }
   },
   "source": [
    "Review the documentation of XdFileType. \n"
   ]
  },
  {
   "cell_type": "code",
   "execution_count": null,
   "metadata": {
    "scrolled": false,
    "slideshow": {
     "slide_type": "slide"
    }
   },
   "outputs": [],
   "source": [
    "help(XdFileType)"
   ]
  },
  {
   "cell_type": "markdown",
   "metadata": {
    "slideshow": {
     "slide_type": "slide"
    }
   },
   "source": [
    "Create a XdFile model instance. \n",
    "\n",
    "We are going to create a model for logos to be embeded in the data instance. "
   ]
  },
  {
   "cell_type": "code",
   "execution_count": null,
   "metadata": {},
   "outputs": [],
   "source": [
    "d = XdFileType(\"Company Logo\")\n",
    "d.docs = \"The logo of the company.\"\n",
    "d.definition_url = 'http://s3model.com/examples/logos'\n",
    "d.content_type = 'embed'"
   ]
  },
  {
   "cell_type": "markdown",
   "metadata": {},
   "source": [
    "Review the XSD model fragment. Note the similarity and consistency of each Xd* Type model. \n",
    "\n",
    "Here, as we saw in the choice *true-value* or *false-value* attributes in the XdBooleanType, we have a choice between *uri* and *media-content*. \n",
    "\n",
    "Only one or the other can be present in the model and therefore in the data instance. The default is for a *uri*. Since we want to embed the logo we set the *content_type* to 'embed'.\n",
    "\n",
    "Once we have completed the model it must be published before we can add/change instance data."
   ]
  },
  {
   "cell_type": "code",
   "execution_count": null,
   "metadata": {},
   "outputs": [],
   "source": [
    "print(d.uri)"
   ]
  },
  {
   "cell_type": "code",
   "execution_count": null,
   "metadata": {},
   "outputs": [],
   "source": [
    "d.published = True\n",
    "print(d.getModel())"
   ]
  },
  {
   "cell_type": "markdown",
   "metadata": {},
   "source": [
    "Let's add some data.\n",
    "\n",
    "Since we are going to store the content in the data instance we first need to read the file we are going to store. \n",
    "\n",
    "We need the filesize as part of our meta-data about this content."
   ]
  },
  {
   "cell_type": "code",
   "execution_count": null,
   "metadata": {},
   "outputs": [],
   "source": [
    "img = os.path.abspath(os.path.join(os.getcwd(), 'examples', 'images','S3M.png'))\n",
    "print(\"Path to file: \", img)\n",
    "filesize = os.stat(img).st_size\n",
    "d.size = filesize\n",
    "d.alt_txt = \"S3Model Logo\"\n",
    "# Take a look at some details of the model.\n",
    "print(d, '\\n')\n",
    "print(d.alt_txt, 'File size in bytes: ' + str(d.size))"
   ]
  },
  {
   "cell_type": "markdown",
   "metadata": {},
   "source": [
    "We base64encode it and store the content in the *media_content* attribute.\n",
    "We check the type to see that it is 'bytes' (a byte string)."
   ]
  },
  {
   "cell_type": "code",
   "execution_count": null,
   "metadata": {},
   "outputs": [],
   "source": [
    "import base64\n",
    "\n",
    "with open(img, \"rb\") as f:\n",
    "    encodedFile = base64.b64encode(f.read())\n",
    "print(\"The enclosed file type is: \", type(encodedFile))\n",
    "d.media_content = encodedFile"
   ]
  },
  {
   "cell_type": "code",
   "execution_count": null,
   "metadata": {
    "scrolled": false
   },
   "outputs": [],
   "source": [
    "print(d.getXMLInstance())"
   ]
  },
  {
   "cell_type": "markdown",
   "metadata": {},
   "source": [
    "The *media_content* and *uri* attributes are mutually exclusive. \n",
    "\n",
    "Because the model is frozen once it has been published, we will create a new model instance below to demonstrate the use of *uri*. \n",
    "\n",
    "Since 'uri' is the default *content_type* setting we do not need to set it.\n",
    "\n",
    "Using the cardinality attribute we are going to require the *size* attribute."
   ]
  },
  {
   "cell_type": "code",
   "execution_count": null,
   "metadata": {
    "scrolled": true
   },
   "outputs": [],
   "source": [
    "d = XdFileType(\"S3Model Logo\")\n",
    "d.docs = \"The awesome S3Model Logo\"\n",
    "\n",
    "d.definition_url = 'http://s3model.com/examples/files'\n",
    "d.cardinality = ('size', [1,1])\n",
    "print(d)"
   ]
  },
  {
   "cell_type": "code",
   "execution_count": null,
   "metadata": {},
   "outputs": [],
   "source": [
    "d.published = True\n",
    "print(d.getModel())"
   ]
  },
  {
   "cell_type": "code",
   "execution_count": null,
   "metadata": {},
   "outputs": [],
   "source": [
    "img = os.path.abspath(os.path.join(os.getcwd(), 'examples', 'images','S3M.png'))\n",
    "d.size = os.stat(img).st_size\n",
    "d.alt_txt = \"S3Model Logo\"\n",
    "d.uri = \"https://datainsights.tech/S3M.logo\"\n",
    "print(d.getXMLInstance())"
   ]
  }
 ],
 "metadata": {
  "kernelspec": {
   "display_name": "Python 3",
   "language": "python",
   "name": "python3"
  },
  "language_info": {
   "codemirror_mode": {
    "name": "ipython",
    "version": 3
   },
   "file_extension": ".py",
   "mimetype": "text/x-python",
   "name": "python",
   "nbconvert_exporter": "python",
   "pygments_lexer": "ipython3",
   "version": "3.7.3"
  }
 },
 "nbformat": 4,
 "nbformat_minor": 2
}
