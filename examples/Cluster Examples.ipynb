{
 "cells": [
  {
   "cell_type": "markdown",
   "metadata": {
    "slideshow": {
     "slide_type": "slide"
    }
   },
   "source": [
    "# Examples using the ClusterType"
   ]
  },
  {
   "cell_type": "markdown",
   "metadata": {
    "slideshow": {
     "slide_type": "slide"
    }
   },
   "source": [
    "**Set the path and import the extended datatype.**"
   ]
  },
  {
   "cell_type": "code",
   "execution_count": null,
   "metadata": {},
   "outputs": [],
   "source": [
    "import os\n",
    "# set the current working directory to the project parent.\n",
    "os.chdir(os.path.abspath(os.path.join(os.getcwd(), os.pardir)))"
   ]
  },
  {
   "cell_type": "code",
   "execution_count": null,
   "metadata": {
    "slideshow": {
     "slide_type": "fragment"
    }
   },
   "outputs": [],
   "source": [
    "from S3MPython.utils import xsdstub, xmlstub\n",
    "from S3MPython.struct import ClusterType, XdAdapterType\n",
    "from S3MPython.xdt import XdStringType, XdTemporalType, XdOrdinalType, XdCountType"
   ]
  },
  {
   "cell_type": "markdown",
   "metadata": {
    "slideshow": {
     "slide_type": "slide"
    }
   },
   "source": [
    "Review the documentation of ClusterType."
   ]
  },
  {
   "cell_type": "code",
   "execution_count": null,
   "metadata": {
    "scrolled": true,
    "slideshow": {
     "slide_type": "slide"
    }
   },
   "outputs": [],
   "source": [
    "help(ClusterType)"
   ]
  },
  {
   "cell_type": "markdown",
   "metadata": {
    "slideshow": {
     "slide_type": "slide"
    }
   },
   "source": [
    "Create a Cluster instance and provide a *label*. A Cluster is the building block of data models. It allows the modeler to logical group XdTypes. Clusters can themselves contain Clusters to an infinite level. However, practical models will seldom have more than 2 or 3 levels of nesting. A XdAnyType subtype must be wrapped in an adapter (XdAdapterType) to be included in a ClusterType.\n",
    "\n",
    "For this example we will create a model for this data entry form.\n",
    "\n",
    "\n",
    "<div class=\"logo-container\">\n",
    "  <div class=\"logo\"><img src=\"images/Data-Entry-Form.png\" height=\"400\" width=\"400\"/></div>\n",
    "</div>"
   ]
  },
  {
   "cell_type": "code",
   "execution_count": null,
   "metadata": {},
   "outputs": [],
   "source": [
    "ERF = ClusterType('Employee Record Form')\n",
    "ERF.definition_url = 'http://s3model.com/examples/ERF'"
   ]
  },
  {
   "cell_type": "code",
   "execution_count": null,
   "metadata": {},
   "outputs": [],
   "source": [
    "# Use a XdStringType to capture the action\n",
    "choice = []\n",
    "choice.append(('Add New','https://datainsights.tech/examples/AddNewRecord'))\n",
    "choice.append(('Modify','https://datainsights.tech/examples/ModifyRecord'))\n",
    "choice.append(('Delete','https://datainsights.tech/examples/DeleteRecord'))\n",
    "\n",
    "action = XdStringType(\"Record Action\")\n",
    "action.docs = \"Select the action to perform.\"\n",
    "action.definition_url = 'http://s3model.com/examples/action_choice'\n",
    "action.enums = choice\n",
    "action.published = True\n",
    "print(action)"
   ]
  },
  {
   "cell_type": "markdown",
   "metadata": {},
   "source": [
    "Use a regular expression to limit the Employee Number to one character of A,B,C,D or E and 5 digits.\n",
    "\n",
    "Examples: A09098, D76547, etc.\n"
   ]
  },
  {
   "cell_type": "code",
   "execution_count": null,
   "metadata": {},
   "outputs": [],
   "source": [
    "empnum = XdStringType('Employee Number')\n",
    "empnum.docs = 'An employee number consists of a single character department code (A-E) and 5 digits (0-9).'\n",
    "empnum.definition_url = 'https://datainsights.tech/examples/EmployeeNumber'\n",
    "empnum.regex = '[A-E]{1}[0-9]{5}'\n",
    "empnum.published = True"
   ]
  },
  {
   "cell_type": "code",
   "execution_count": null,
   "metadata": {},
   "outputs": [],
   "source": [
    "joined = XdTemporalType(\"Date of Joining\")\n",
    "joined.docs = \"Require a full date. Disallow all others.\"\n",
    "joined.definition_url = 'http://s3model.com/examples/joindate'\n",
    "joined.cardinality = ('date', [1,1])\n",
    "joined.cardinality = ('time', [0,0])\n",
    "joined.cardinality = ('datetime', [0,0])\n",
    "joined.cardinality = ('day', [0,0])\n",
    "joined.cardinality = ('month', [0,0])\n",
    "joined.cardinality = ('year', [0,0])\n",
    "joined.cardinality = ('year_month', [0,0])\n",
    "joined.cardinality = ('month_day', [0,0])\n",
    "joined.cardinality = ('duration', [0,0])\n",
    "joined.published = True\n",
    "print(joined)"
   ]
  },
  {
   "cell_type": "code",
   "execution_count": null,
   "metadata": {},
   "outputs": [],
   "source": [
    "fname = XdStringType('First Name')\n",
    "fname.docs = \"The employee's first name.\"\n",
    "fname.definition_url = 'https://datainsights.tech/examples/EmployeeFirstName'\n",
    "fname.cardinality = ('value', [1,1])\n",
    "fname.published = True\n",
    "print(fname)"
   ]
  },
  {
   "cell_type": "code",
   "execution_count": null,
   "metadata": {},
   "outputs": [],
   "source": [
    "lname = XdStringType('Last Name')\n",
    "lname.docs = \"The employee's last name.\"\n",
    "lname.definition_url = 'https://datainsights.tech/examples/EmployeeLastName'\n",
    "lname.cardinality = ('value', [1,1])\n",
    "lname.published = True\n",
    "print(lname)"
   ]
  },
  {
   "cell_type": "code",
   "execution_count": null,
   "metadata": {},
   "outputs": [],
   "source": [
    "desig = XdStringType('Designation')\n",
    "desig.docs = \"The employee's designation.\"\n",
    "desig.definition_url = 'https://datainsights.tech/examples/EmployeeDesignation'\n",
    "jobs = []\n",
    "jobs.append(('Manager', 'https://datainsights.tech/examples/EmployeeDesignation#Manager'))\n",
    "jobs.append(('Foreman', 'https://datainsights.tech/examples/EmployeeDesignation#Forman'))\n",
    "jobs.append(('LineWorker', 'https://datainsights.tech/examples/EmployeeDesignation#LineWorker'))\n",
    "desig.enums = jobs\n",
    "desig.published = True\n",
    "print(desig)"
   ]
  },
  {
   "cell_type": "code",
   "execution_count": null,
   "metadata": {},
   "outputs": [],
   "source": [
    "dob = XdTemporalType(\"Date of Birth\")\n",
    "dob.docs = \"DOB allows a full date or just a month/year.\"\n",
    "dob.definition_url = 'http://s3model.com/examples/dob'\n",
    "dob.cardinality = ('date', [0,1])\n",
    "dob.cardinality = ('time', [0,0])\n",
    "dob.cardinality = ('datetime', [0,0])\n",
    "dob.cardinality = ('day', [0,0])\n",
    "dob.cardinality = ('month', [0,0])\n",
    "dob.cardinality = ('year', [0,0])\n",
    "dob.cardinality = ('year_month', [0,1])\n",
    "dob.cardinality = ('month_day', [0,0])\n",
    "dob.cardinality = ('duration', [0,0])\n",
    "dob.published = True\n",
    "print(dob)"
   ]
  },
  {
   "cell_type": "code",
   "execution_count": null,
   "metadata": {},
   "outputs": [],
   "source": [
    "qual = XdStringType('Highest Qualification')\n",
    "qual.docs = \"The employee's highest level of qualification.\"\n",
    "qual.definition_url = 'https://datainsights.tech/examples/EmployeeQualification'\n",
    "level = []\n",
    "level.append(('Level1', 'https://datainsights.tech/examples/EmployeeQualification#Level1'))\n",
    "level.append(('Level2', 'https://datainsights.tech/examples/EmployeeQualification#Level2'))\n",
    "level.append(('Level3', 'https://datainsights.tech/examples/EmployeeQualification#Level3'))\n",
    "qual.enums = level\n",
    "qual.published = True\n",
    "print(qual)"
   ]
  },
  {
   "cell_type": "code",
   "execution_count": null,
   "metadata": {},
   "outputs": [],
   "source": [
    "# create the units model\n",
    "unit = XdStringType('Years')\n",
    "unit.docs = \"Count of the years of experience.\"\n",
    "unit.definition_url = 'https://datainsights.tech/examples/Experience'\n",
    "unit.published = True\n",
    "# now the count model\n",
    "exp = XdCountType(\"Years of Experience\")\n",
    "exp.docs = \"Record the number of years of experience of the employee.\"\n",
    "exp.definition_url = 'https://datainsights.tech/examples/Experience#Years'\n",
    "exp.min_inclusive = 0\n",
    "exp.max_inclusive = 99\n",
    "exp.units = unit\n",
    "exp.published = True\n",
    "print(exp)"
   ]
  },
  {
   "cell_type": "code",
   "execution_count": null,
   "metadata": {
    "scrolled": true
   },
   "outputs": [],
   "source": [
    "# Each component needs to be placed inside a new adapter before being added to the Cluster\n",
    "a = XdAdapterType()\n",
    "a.value = action # form action\n",
    "ERF.items = a\n",
    "\n",
    "b = XdAdapterType()\n",
    "b.value = empnum # Employee Number\n",
    "ERF.items = b\n",
    "\n",
    "c = XdAdapterType()\n",
    "c.value = joined  \n",
    "ERF.items = c\n",
    "\n",
    "d = XdAdapterType()\n",
    "d.value = fname \n",
    "ERF.items = d\n",
    "\n",
    "e = XdAdapterType()\n",
    "e.value = lname\n",
    "ERF.items = e\n",
    "\n",
    "f = XdAdapterType()\n",
    "f.value = desig\n",
    "ERF.items = f\n",
    "\n",
    "g = XdAdapterType()\n",
    "g.value = dob\n",
    "ERF.items = g\n",
    "\n",
    "h = XdAdapterType()\n",
    "h.value = qual\n",
    "ERF.items = h\n",
    "\n",
    "i = XdAdapterType()\n",
    "i.value = exp\n",
    "ERF.items = i\n",
    "\n",
    "print(ERF)"
   ]
  },
  {
   "cell_type": "code",
   "execution_count": null,
   "metadata": {},
   "outputs": [],
   "source": [
    "print(action.adapter)"
   ]
  },
  {
   "cell_type": "code",
   "execution_count": null,
   "metadata": {
    "scrolled": false
   },
   "outputs": [],
   "source": [
    "ERF.published = True\n",
    "# print(ERF.getModel())"
   ]
  },
  {
   "cell_type": "markdown",
   "metadata": {},
   "source": [
    "The model and instance data are quite large so we will write these out to files for examination in an editor."
   ]
  },
  {
   "cell_type": "code",
   "execution_count": null,
   "metadata": {},
   "outputs": [],
   "source": [
    "# pass the model to write out\n",
    "xsdstub(ERF)"
   ]
  },
  {
   "cell_type": "code",
   "execution_count": null,
   "metadata": {},
   "outputs": [],
   "source": [
    "# pass the model to use for the data and if you want to generate example data pass True as the second parameter.\n",
    "xmlstub(ERF,True)"
   ]
  },
  {
   "cell_type": "code",
   "execution_count": null,
   "metadata": {},
   "outputs": [],
   "source": [
    "# You can also get your data as JSON\n",
    "print(ERF.getJSONInstance(True))"
   ]
  }
 ],
 "metadata": {
  "kernelspec": {
   "display_name": "Python 3",
   "language": "python",
   "name": "python3"
  },
  "language_info": {
   "codemirror_mode": {
    "name": "ipython",
    "version": 3
   },
   "file_extension": ".py",
   "mimetype": "text/x-python",
   "name": "python",
   "nbconvert_exporter": "python",
   "pygments_lexer": "ipython3",
   "version": "3.7.3"
  }
 },
 "nbformat": 4,
 "nbformat_minor": 2
}
