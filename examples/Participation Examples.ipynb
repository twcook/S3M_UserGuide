{
 "cells": [
  {
   "cell_type": "markdown",
   "metadata": {
    "slideshow": {
     "slide_type": "slide"
    }
   },
   "source": [
    "# Examples using the ParticipationType"
   ]
  },
  {
   "cell_type": "markdown",
   "metadata": {
    "slideshow": {
     "slide_type": "slide"
    }
   },
   "source": [
    "**Set the path and import the extended datatype.**"
   ]
  },
  {
   "cell_type": "code",
   "execution_count": null,
   "metadata": {},
   "outputs": [],
   "source": [
    "import os\n",
    "# set the current working directory to the project parent.\n",
    "os.chdir(os.path.abspath(os.path.join(os.getcwd(), os.pardir)))"
   ]
  },
  {
   "cell_type": "code",
   "execution_count": null,
   "metadata": {
    "slideshow": {
     "slide_type": "fragment"
    }
   },
   "outputs": [],
   "source": [
    "from S3MPython.utils import xsdstub, xmlstub, jsonstub\n",
    "from S3MPython.xdt import XdStringType, XdLinkType\n",
    "from S3MPython.struct import ClusterType, XdAdapterType\n",
    "from S3MPython.meta import PartyType, ParticipationType"
   ]
  },
  {
   "cell_type": "markdown",
   "metadata": {
    "slideshow": {
     "slide_type": "slide"
    }
   },
   "source": [
    "Review the documentation of ParticipationType. "
   ]
  },
  {
   "cell_type": "code",
   "execution_count": null,
   "metadata": {
    "scrolled": false,
    "slideshow": {
     "slide_type": "slide"
    }
   },
   "outputs": [],
   "source": [
    "help(ParticipationType)"
   ]
  },
  {
   "cell_type": "markdown",
   "metadata": {
    "slideshow": {
     "slide_type": "slide"
    }
   },
   "source": [
    "Create a Participation model instance."
   ]
  },
  {
   "cell_type": "code",
   "execution_count": null,
   "metadata": {
    "slideshow": {
     "slide_type": "fragment"
    }
   },
   "outputs": [],
   "source": [
    "ptn = ParticipationType('Repair Participation Model')\n",
    "ptn.definition_url = 'http://s3model.com/examples/repair'\n",
    "ptn.docs = \"Describe a participation a machine repair activity.\"\n",
    "# adding an additional resource here helps relate to an upper ontology i.e. Dublin Core\n",
    "ptn.pred_obj_list = ('rdfs:isDefinedBy','http://purl.org/dc/terms/contributor')\n",
    "\n",
    "# create the required contents and any optionals that we want \n",
    "function = XdStringType(\"A function of the person in this repair.\")\n",
    "function.definition_url = 'http://s3model.com/examples/function'\n",
    "function.docs = \"Select the function this person performed.\"\n",
    "enums = []\n",
    "enums.append(('Supervisor', 'http://dbpedia.org/ontology/teamManager'))\n",
    "enums.append(('Technician', 'http://www.disit.org/km4city/schema#Computer_technician'))\n",
    "enums.append(('Customer', 'http://ns.cerise-project.nl/energy/def/cim-smartgrid#Customer'))\n",
    "function.enums = enums\n",
    "function.published = True\n",
    "\n",
    "mode = XdStringType(\"The mode of the participation\")\n",
    "mode.definition_url = 'http://s3model.com/examples/function'\n",
    "enums = []\n",
    "enums.append(('In person', 'http://www.europeana.eu/schemas/edm/wasPresentAt'))\n",
    "enums.append(('Video Conference', 'http://rdfs.org/sioc/types#VideoChannel'))\n",
    "enums.append(('Telephone', 'http://semanticscience.org/resource/SIO_000927'))\n",
    "mode.enums = enums\n",
    "mode.published = True\n",
    "\n",
    "\n",
    "lnk = XdLinkType(\"Link to a reference of the person\")\n",
    "lnk.fixed = False\n",
    "lnk.relation = 'participation reference'\n",
    "lnk.relation_uri = \"http://s3model.com/dm-cjn9dpaqt000lb18pyzhhrhj1\"\n",
    "lnk.docs = \"A link to model of more information about the person.\"\n",
    "lnk.definition_url = 'http://s3model.com/examples/party_ref'\n",
    "lnk.published = True\n",
    "\n",
    "details = XdStringType(\"Some location details about the person.\") # this will be in the details cluster\n",
    "details.definition_url = 'http://s3model.com/examples/somedetails'\n",
    "details.docs = \"Enter location information in the value attribute.\"\n",
    "details.published = True\n",
    "a = XdAdapterType() # in a cluster we need an adapter\n",
    "a.value = details\n",
    "\n",
    "loc = ClusterType(\"Location of participant\")\n",
    "loc.docs = \"A structure of a model for details about the location of the participant.\"\n",
    "loc.definition_url = 'http://s3model.com/examples/participant_location_details'\n",
    "loc.items = a \n",
    "loc.published = True\n",
    "\n",
    "performer = PartyType(\"A person involved in the repair.\")\n",
    "performer.definition_url = 'http://s3model.com/examples/partytorepair'\n",
    "performer.docs = \"Describes the person in this participation of the repair.\"\n",
    "performer.party_details = loc\n",
    "performer.party_link = lnk\n",
    "\n",
    "performer.published = True\n",
    "\n",
    "ptn.function = function\n",
    "ptn.mode = mode\n",
    "ptn.performer = performer\n",
    "ptn.published = True\n",
    "\n",
    "print(ptn)"
   ]
  },
  {
   "cell_type": "code",
   "execution_count": null,
   "metadata": {},
   "outputs": [],
   "source": [
    "# Review the model\n",
    "print(ptn.getModel())"
   ]
  },
  {
   "cell_type": "code",
   "execution_count": null,
   "metadata": {},
   "outputs": [],
   "source": [
    "# create stubs\n",
    "xsdstub(ptn)\n",
    "xmlstub(ptn, True)\n",
    "jsonstub(ptn, True)"
   ]
  }
 ],
 "metadata": {
  "celltoolbar": "Slideshow",
  "kernelspec": {
   "display_name": "Python 3",
   "language": "python",
   "name": "python3"
  },
  "language_info": {
   "codemirror_mode": {
    "name": "ipython",
    "version": 3
   },
   "file_extension": ".py",
   "mimetype": "text/x-python",
   "name": "python",
   "nbconvert_exporter": "python",
   "pygments_lexer": "ipython3",
   "version": "3.7.3"
  }
 },
 "nbformat": 4,
 "nbformat_minor": 2
}
