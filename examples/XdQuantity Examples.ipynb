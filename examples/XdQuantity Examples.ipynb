{
 "cells": [
  {
   "cell_type": "markdown",
   "metadata": {
    "slideshow": {
     "slide_type": "slide"
    }
   },
   "source": [
    "# Examples using the XdQuantityType"
   ]
  },
  {
   "cell_type": "markdown",
   "metadata": {
    "slideshow": {
     "slide_type": "slide"
    }
   },
   "source": [
    "**Set the path and import the extended datatype.**"
   ]
  },
  {
   "cell_type": "code",
   "execution_count": null,
   "metadata": {},
   "outputs": [],
   "source": [
    "import os\n",
    "# set the current working directory to the project parent.\n",
    "os.chdir(os.path.abspath(os.path.join(os.getcwd(), os.pardir)))"
   ]
  },
  {
   "cell_type": "code",
   "execution_count": null,
   "metadata": {
    "slideshow": {
     "slide_type": "fragment"
    }
   },
   "outputs": [],
   "source": [
    "from S3MPython.xdt import XdQuantityType, XdStringType"
   ]
  },
  {
   "cell_type": "markdown",
   "metadata": {
    "slideshow": {
     "slide_type": "slide"
    }
   },
   "source": [
    "Review the documentation of XdQuantityType."
   ]
  },
  {
   "cell_type": "code",
   "execution_count": null,
   "metadata": {
    "scrolled": false,
    "slideshow": {
     "slide_type": "slide"
    }
   },
   "outputs": [],
   "source": [
    "help(XdQuantityType)"
   ]
  },
  {
   "cell_type": "markdown",
   "metadata": {
    "slideshow": {
     "slide_type": "slide"
    }
   },
   "source": [
    "Create a XdQuantity model instance. We must provide a *label* as per all Xd Types. \n",
    "\n",
    "We also need a units object which is a XdStringType. Usually the modeler will provide a selection of options for the end-user to choose from when selecting a units value. \n",
    "\n",
    "For this example we will create a model to record an amount of currency. In a real-world application the complete list of codes would usually be used. https://www.currency-iso.org/en/home/tables/table-a1.html In our example we show a few."
   ]
  },
  {
   "cell_type": "code",
   "execution_count": null,
   "metadata": {},
   "outputs": [],
   "source": [
    "# create the units model\n",
    "u = XdStringType('Currency Codes')\n",
    "u.docs = \"Select the currency code.\"\n",
    "u.definition_url = 'https://www.iso.org/iso-4217-currency-codes.html'\n",
    "# create the units options\n",
    "enums = []\n",
    "enums.append(('USD', 'https://www.iso.org/iso-4217-currency-codes.html#USD'))\n",
    "enums.append(('BRL', 'https://www.iso.org/iso-4217-currency-codes.html#BRL'))\n",
    "enums.append(('CAD', 'https://www.iso.org/iso-4217-currency-codes.html#CAD'))\n",
    "u.enums = enums\n",
    "u.published = True\n",
    "\n",
    "# now the model\n",
    "d = XdQuantityType(\"Currency Amount\")\n",
    "d.docs = \"Record the amount of currency.\"\n",
    "d.definition_url = 'http://s3model.com/examples/currency'\n",
    "d.units = u\n",
    "d.min_inclusive = 0  # can't have a negative amount\n",
    "d.fraction_digits = 2 # currency is recorded with only two decimal places\n",
    "d.total_digits = 10\n",
    "print(d)"
   ]
  },
  {
   "cell_type": "markdown",
   "metadata": {},
   "source": [
    "Examine the model."
   ]
  },
  {
   "cell_type": "code",
   "execution_count": null,
   "metadata": {
    "scrolled": false
   },
   "outputs": [],
   "source": [
    "d.published = True\n",
    "print(d.getModel())"
   ]
  },
  {
   "cell_type": "markdown",
   "metadata": {},
   "source": [
    "Print an XML instance example."
   ]
  },
  {
   "cell_type": "code",
   "execution_count": null,
   "metadata": {
    "scrolled": true
   },
   "outputs": [],
   "source": [
    "d.value = 128.00\n",
    "u.value = 'CAD'\n",
    "print(d.getXMLInstance())"
   ]
  }
 ],
 "metadata": {
  "kernelspec": {
   "display_name": "Python 3",
   "language": "python",
   "name": "python3"
  },
  "language_info": {
   "codemirror_mode": {
    "name": "ipython",
    "version": 3
   },
   "file_extension": ".py",
   "mimetype": "text/x-python",
   "name": "python",
   "nbconvert_exporter": "python",
   "pygments_lexer": "ipython3",
   "version": "3.7.3"
  }
 },
 "nbformat": 4,
 "nbformat_minor": 2
}
