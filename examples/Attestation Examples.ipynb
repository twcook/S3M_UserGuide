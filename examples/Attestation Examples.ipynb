{
 "cells": [
  {
   "cell_type": "markdown",
   "metadata": {
    "slideshow": {
     "slide_type": "slide"
    }
   },
   "source": [
    "# Examples using the AttestationType"
   ]
  },
  {
   "cell_type": "markdown",
   "metadata": {
    "slideshow": {
     "slide_type": "slide"
    }
   },
   "source": [
    "**Set the path and import the extended datatype.**"
   ]
  },
  {
   "cell_type": "code",
   "execution_count": null,
   "metadata": {},
   "outputs": [],
   "source": [
    "import os\n",
    "# set the current working directory to the project parent.\n",
    "os.chdir(os.path.abspath(os.path.join(os.getcwd(), os.pardir)))"
   ]
  },
  {
   "cell_type": "code",
   "execution_count": null,
   "metadata": {
    "slideshow": {
     "slide_type": "fragment"
    }
   },
   "outputs": [],
   "source": [
    "import os\n",
    "from S3MPython.utils import xsdstub, xmlstub, jsonstub\n",
    "from S3MPython.xdt import XdFileType, XdStringType\n",
    "from S3MPython.meta import AttestationType, PartyType"
   ]
  },
  {
   "cell_type": "markdown",
   "metadata": {
    "slideshow": {
     "slide_type": "slide"
    }
   },
   "source": [
    "Review the documentation of AuditType. "
   ]
  },
  {
   "cell_type": "code",
   "execution_count": null,
   "metadata": {
    "scrolled": false,
    "slideshow": {
     "slide_type": "slide"
    }
   },
   "outputs": [],
   "source": [
    "help(AttestationType)"
   ]
  },
  {
   "cell_type": "markdown",
   "metadata": {
    "slideshow": {
     "slide_type": "slide"
    }
   },
   "source": [
    "Create an Attestation model and add the required *view, proof & reason* models."
   ]
  },
  {
   "cell_type": "code",
   "execution_count": null,
   "metadata": {
    "slideshow": {
     "slide_type": "fragment"
    }
   },
   "outputs": [],
   "source": [
    "att = AttestationType('Test Attestation')\n",
    "att.docs = \"An example Attestation component.\"\n",
    "att.definition_url = \"http://s3model.com/examples/attestation\"\n",
    "\n",
    "v = XdFileType('Test Attestation View')\n",
    "v.docs = \"An example view\"\n",
    "v.definition_url = \"http://s3model.com/examples/view\"\n",
    "v.published = True\n",
    "att.view = v\n",
    "\n",
    "p = XdFileType('Test Attestation Proof')\n",
    "p.docs = \"An example proof\"\n",
    "p.definition_url = \"http://s3model.com/examples/proof\"\n",
    "p.published = True\n",
    "att.proof = p\n",
    "\n",
    "r = XdStringType('Test Attestation Reason')\n",
    "r.docs = \"An example reason\"\n",
    "r.definition_url = \"http://s3model.com/examples/reason\"\n",
    "r.published = True\n",
    "att.reason = r\n",
    "\n",
    "c = PartyType(\"Test Attestation Committer\")\n",
    "c.docs = \"An example committer\"\n",
    "c.definition_url = \"http://s3model.com/examples/committer\"\n",
    "c.published = True\n",
    "att.committer = c\n",
    "att.published = True"
   ]
  },
  {
   "cell_type": "markdown",
   "metadata": {},
   "source": [
    "Adding instance data and generating the model and instances."
   ]
  },
  {
   "cell_type": "code",
   "execution_count": null,
   "metadata": {},
   "outputs": [],
   "source": [
    "# View\n",
    "img = os.path.abspath(os.path.join(os.getcwd(), 'examples', 'images','Data-Entry-Form.png'))\n",
    "v.size = os.stat(img).st_size\n",
    "v.alt_txt = \"Data Entry Form\""
   ]
  },
  {
   "cell_type": "code",
   "execution_count": null,
   "metadata": {},
   "outputs": [],
   "source": [
    "# Proof\n",
    "p.size = os.stat('images/Data-Entry-Form.png.gpg').st_size\n",
    "p.alt_txt = \"Data Entry Form Signature\""
   ]
  },
  {
   "cell_type": "code",
   "execution_count": null,
   "metadata": {},
   "outputs": [],
   "source": [
    "# Reason\n",
    "sig = os.path.abspath(os.path.join(os.getcwd(), 'examples', 'images','Data-Entry-Form.png.gpg'))\n",
    "r.size = os.stat(sig).st_size\n",
    "r.alt_txt = \"Data Entry Form\""
   ]
  },
  {
   "cell_type": "code",
   "execution_count": null,
   "metadata": {},
   "outputs": [],
   "source": [
    "# Committer\n",
    "c.party_name = \"John C. Smith\""
   ]
  },
  {
   "cell_type": "code",
   "execution_count": null,
   "metadata": {},
   "outputs": [],
   "source": [
    "# create stubs\n",
    "xsdstub(att)\n",
    "xmlstub(att, True)\n",
    "jsonstub(att, True)"
   ]
  }
 ],
 "metadata": {
  "celltoolbar": "Slideshow",
  "kernelspec": {
   "display_name": "Python 3",
   "language": "python",
   "name": "python3"
  },
  "language_info": {
   "codemirror_mode": {
    "name": "ipython",
    "version": 3
   },
   "file_extension": ".py",
   "mimetype": "text/x-python",
   "name": "python",
   "nbconvert_exporter": "python",
   "pygments_lexer": "ipython3",
   "version": "3.7.3"
  }
 },
 "nbformat": 4,
 "nbformat_minor": 2
}
