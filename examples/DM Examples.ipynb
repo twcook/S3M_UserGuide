{
 "cells": [
  {
   "cell_type": "markdown",
   "metadata": {
    "slideshow": {
     "slide_type": "slide"
    }
   },
   "source": [
    "# Example using the DMType"
   ]
  },
  {
   "cell_type": "markdown",
   "metadata": {
    "slideshow": {
     "slide_type": "slide"
    }
   },
   "source": [
    "**Set the path and import the extended datatype.**"
   ]
  },
  {
   "cell_type": "code",
   "execution_count": null,
   "metadata": {},
   "outputs": [],
   "source": [
    "import os\n",
    "# set the current working directory to the project parent.\n",
    "os.chdir(os.path.abspath(os.path.join(os.getcwd(), os.pardir)))"
   ]
  },
  {
   "cell_type": "code",
   "execution_count": null,
   "metadata": {
    "slideshow": {
     "slide_type": "fragment"
    }
   },
   "outputs": [],
   "source": [
    "from S3MPython.dm import DMType\n",
    "from S3MPython.struct import ClusterType, XdAdapterType\n",
    "from S3MPython.xdt import XdStringType, XdTemporalType, XdOrdinalType, XdCountType"
   ]
  },
  {
   "cell_type": "markdown",
   "metadata": {
    "slideshow": {
     "slide_type": "slide"
    }
   },
   "source": [
    "Review the documentation of DMType. "
   ]
  },
  {
   "cell_type": "code",
   "execution_count": null,
   "metadata": {
    "scrolled": true,
    "slideshow": {
     "slide_type": "slide"
    }
   },
   "outputs": [],
   "source": [
    "help(DMType)"
   ]
  },
  {
   "cell_type": "markdown",
   "metadata": {
    "slideshow": {
     "slide_type": "slide"
    }
   },
   "source": [
    "We will reuse our ClusterType example and create the DMType (Data Model) wrapper around it.\n",
    "\n",
    "<div class=\"logo-container\">\n",
    "  <div class=\"logo\"><img src=\"images/Data-Entry-Form.png\" height=\"400\" width=\"400\"/></div>\n",
    "</div>"
   ]
  },
  {
   "cell_type": "markdown",
   "metadata": {},
   "source": [
    "Here we are going to execute the same code we built in the ClusterType Example."
   ]
  },
  {
   "cell_type": "code",
   "execution_count": null,
   "metadata": {},
   "outputs": [],
   "source": [
    "ERF = ClusterType('Employee Record Form')\n",
    "ERF.definition_url = 'http://s3model.com/examples/ERF'\n",
    "\n",
    "choice = []\n",
    "choice.append(('Add New','https://datainsights.tech/examples/AddNewRecord'))\n",
    "choice.append(('Modify','https://datainsights.tech/examples/ModifyRecord'))\n",
    "choice.append(('Delete','https://datainsights.tech/examples/DeleteRecord'))\n",
    "action = XdStringType(\"Record Action\")\n",
    "action.docs = \"Select the action to perform.\"\n",
    "action.definition_url = 'http://s3model.com/examples/action_choice'\n",
    "action.enums = choice\n",
    "action.published = True\n",
    "\n",
    "empnum = XdStringType('Employee Number')\n",
    "empnum.docs = 'An employee number consists of a single character department code (A-E) and 5 digits (0-9).'\n",
    "empnum.definition_url = 'https://datainsights.tech/examples/EmployeeNumber'\n",
    "empnum.regex = '[A-E]{1}[0-9]{5}'\n",
    "empnum.published = True\n",
    "\n",
    "joined = XdTemporalType(\"Date of Joining\")\n",
    "joined.docs = \"Require a full date. Disallow all others.\"\n",
    "joined.definition_url = 'http://s3model.com/examples/joindate'\n",
    "joined.cardinality = ('date', [1,1])\n",
    "joined.cardinality = ('time', [0,0])\n",
    "joined.cardinality = ('datetime', [0,0])\n",
    "joined.cardinality = ('day', [0,0])\n",
    "joined.cardinality = ('month', [0,0])\n",
    "joined.cardinality = ('year', [0,0])\n",
    "joined.cardinality = ('year_month', [0,0])\n",
    "joined.cardinality = ('month_day', [0,0])\n",
    "joined.cardinality = ('duration', [0,0])\n",
    "joined.published = True\n",
    "\n",
    "fname = XdStringType('First Name')\n",
    "fname.docs = \"The employee's first name.\"\n",
    "fname.definition_url = 'https://datainsights.tech/examples/EmployeeFirstName'\n",
    "fname.cardinality = ('value', [1,1])\n",
    "fname.published = True\n",
    "\n",
    "lname = XdStringType('Last Name')\n",
    "lname.docs = \"The employee's last name.\"\n",
    "lname.definition_url = 'https://datainsights.tech/examples/EmployeeLastName'\n",
    "lname.cardinality = ('value', [1,1])\n",
    "lname.published = True\n",
    "\n",
    "desig = XdStringType('Designation')\n",
    "desig.docs = \"The employee's designation.\"\n",
    "desig.definition_url = 'https://datainsights.tech/examples/EmployeeDesignation'\n",
    "jobs = []\n",
    "jobs.append(('Manager', 'https://datainsights.tech/examples/EmployeeDesignation#Manager'))\n",
    "jobs.append(('Foreman', 'https://datainsights.tech/examples/EmployeeDesignation#Forman'))\n",
    "jobs.append(('LineWorker', 'https://datainsights.tech/examples/EmployeeDesignation#LineWorker'))\n",
    "desig.enums = jobs\n",
    "desig.published = True\n",
    "\n",
    "dob = XdTemporalType(\"Date of Birth\")\n",
    "dob.docs = \"DOB allows a full date or just a month/year.\"\n",
    "dob.definition_url = 'http://s3model.com/examples/dob'\n",
    "dob.cardinality = ('date', [0,1])\n",
    "dob.cardinality = ('time', [0,0])\n",
    "dob.cardinality = ('datetime', [0,0])\n",
    "dob.cardinality = ('day', [0,0])\n",
    "dob.cardinality = ('month', [0,0])\n",
    "dob.cardinality = ('year', [0,0])\n",
    "dob.cardinality = ('year_month', [0,1])\n",
    "dob.cardinality = ('month_day', [0,0])\n",
    "dob.cardinality = ('duration', [0,0])\n",
    "dob.published = True\n",
    "\n",
    "qual = XdStringType('Highest Qualification')\n",
    "qual.docs = \"The employee's highest level of qualification.\"\n",
    "qual.definition_url = 'https://datainsights.tech/examples/EmployeeQualification'\n",
    "level = []\n",
    "level.append(('Level1', 'https://datainsights.tech/examples/EmployeeQualification#Level1'))\n",
    "level.append(('Level2', 'https://datainsights.tech/examples/EmployeeQualification#Level2'))\n",
    "level.append(('Level3', 'https://datainsights.tech/examples/EmployeeQualification#Level3'))\n",
    "qual.enums = level\n",
    "qual.published = True\n",
    "\n",
    "unit = XdStringType('Years')\n",
    "unit.docs = \"Count of the years of experience.\"\n",
    "unit.definition_url = 'https://datainsights.tech/examples/Experience'\n",
    "unit.published = True\n",
    "\n",
    "exp = XdCountType(\"Years of Experience\")\n",
    "exp.docs = \"Record the number of years of experience of the employee.\"\n",
    "exp.definition_url = 'https://datainsights.tech/examples/Experience#Years'\n",
    "exp.min_inclusive = 0\n",
    "exp.max_inclusive = 99\n",
    "exp.units = unit\n",
    "exp.published = True\n",
    "\n",
    "# add items to the Cluster\n",
    "a = XdAdapterType()\n",
    "a.value = action \n",
    "ERF.items = a\n",
    "a = XdAdapterType()\n",
    "a.value = empnum \n",
    "ERF.items = a\n",
    "a = XdAdapterType()\n",
    "a.value = joined  \n",
    "ERF.items = a\n",
    "a = XdAdapterType()\n",
    "a.value = fname \n",
    "ERF.items = a\n",
    "a = XdAdapterType()\n",
    "a.value = lname\n",
    "ERF.items = a\n",
    "a = XdAdapterType()\n",
    "a.value = desig\n",
    "ERF.items = a\n",
    "a = XdAdapterType()\n",
    "a.value = dob\n",
    "ERF.items = a\n",
    "a = XdAdapterType()\n",
    "a.value = qual\n",
    "ERF.items = a\n",
    "a = XdAdapterType()\n",
    "a.value = exp\n",
    "ERF.items = a\n",
    "ERF.published = True"
   ]
  },
  {
   "cell_type": "code",
   "execution_count": null,
   "metadata": {},
   "outputs": [],
   "source": [
    "# Create the Data model instance.\n",
    "DM = DMType('Employee Record')"
   ]
  },
  {
   "cell_type": "code",
   "execution_count": null,
   "metadata": {},
   "outputs": [],
   "source": [
    "# Add the Cluster data structure.\n",
    "DM.data = ERF"
   ]
  },
  {
   "cell_type": "markdown",
   "metadata": {},
   "source": [
    "You have seen previuosly how to add metadata to the components through applying RDF semantics.\n",
    "Here you will add metadata about the model itself. This is also converted to RDF using the scripts provided with S3Model.\n",
    "\n",
    "We use standard Dublin Core Metadata elements http://dublincore.org/documents/1999/07/02/dces/\n",
    "Note that elements; *title, type, date, format & identifier* are used but are not editable by the modeler.\n",
    "\n",
    "Take a look at the defaults by executing the next cell."
   ]
  },
  {
   "cell_type": "code",
   "execution_count": null,
   "metadata": {
    "scrolled": false
   },
   "outputs": [],
   "source": [
    "for (m, i) in DM.metadata.items():\n",
    "    print(m, ' - ', i)"
   ]
  },
  {
   "cell_type": "markdown",
   "metadata": {},
   "source": [
    "Edit the values here as desired by editing the properties. Try to make them meaningful in accordance with the example we created."
   ]
  },
  {
   "cell_type": "code",
   "execution_count": null,
   "metadata": {},
   "outputs": [],
   "source": [
    "DM.md_creator = 'Unknown'\n",
    "DM.md_contrib = 'Someone'\n",
    "DM.md_contrib = 'Noone'\n",
    "DM.md_subject = 'S3M Data Model Example'\n",
    "DM.md_rights = 'Creative Commons'\n",
    "DM.md_relation = 'None'\n",
    "DM.md_coverage = 'Global'\n",
    "DM.md_description = 'Needs a description'\n",
    "DM.md_publisher = 'Data Insights, Inc.'\n",
    "DM.md_language = 'en-US'\n",
    "\n",
    "for (m, i) in DM.metadata.items():\n",
    "    print(m, ' - ', i)"
   ]
  },
  {
   "cell_type": "code",
   "execution_count": null,
   "metadata": {
    "scrolled": false
   },
   "outputs": [],
   "source": [
    "print(DM.exportDM())"
   ]
  },
  {
   "cell_type": "markdown",
   "metadata": {},
   "source": [
    "You have completed this tutorial. Our *Knowledge Modeling for A.I.* course includes additional details and models that enhance the ability to perform aduting, assertion certifications and record the subject(s), provider(s) and participations of others regarding the data. \n",
    "\n",
    "See https://datainsights.tech/training for more details. "
   ]
  }
 ],
 "metadata": {
  "kernelspec": {
   "display_name": "Python 3",
   "language": "python",
   "name": "python3"
  },
  "language_info": {
   "codemirror_mode": {
    "name": "ipython",
    "version": 3
   },
   "file_extension": ".py",
   "mimetype": "text/x-python",
   "name": "python",
   "nbconvert_exporter": "python",
   "pygments_lexer": "ipython3",
   "version": "3.7.3"
  }
 },
 "nbformat": 4,
 "nbformat_minor": 2
}
