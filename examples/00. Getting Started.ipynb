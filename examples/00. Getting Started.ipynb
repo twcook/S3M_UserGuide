{
 "cells": [
  {
   "cell_type": "markdown",
   "metadata": {},
   "source": [
    "\n",
    "<center>\n",
    "  <p><img src=\"images/S3M.png\" height=\"70\" width=\"70\"/></p>\n",
    "</center>\n",
    "\n",
    "<h1><center>SHAREABLE-STRUCTURED-SEMANTIC MODEL</center></h1>\n"
   ]
  },
  {
   "cell_type": "markdown",
   "metadata": {},
   "source": [
    "# Assumed Knowledge\n",
    "\n",
    "Before using these tutorials, it is assumed that you are familiar with: \n",
    "\n",
    "- basic programming skills.\n",
    "- writing basic Python3 code. If not then you can start with tutorials [here](https://realpython.com/python-basics/).\n",
    "- using Jupyter notebooks. If you need to familiarize yourself with this skill then please see the [Jupyter notebook tutorials](https://realpython.com/jupyter-notebook-introduction/). \n",
    "- the purpose and uses of S3Model. You can read the specifications and background documents [here](https://s3model.com/).\n",
    "\n",
    "There are also other tutorials and guides for all of these on the Internet. Use you favorite search engine if the above links do not satisfy your needs. "
   ]
  },
  {
   "cell_type": "markdown",
   "metadata": {},
   "source": [
    "# Using the tutorials\n",
    "There are some great things about notebooks and some drawbacks. \n",
    "It is important to realize that using S3Model in a notebook is **not** the recommended approach. You should write an appropriate application to build a model. \n",
    "\n",
    "When executing the tutorials you **must** always execute the cells in the sequence from top to bottom. Anything else is precarious and will likely result in erroneous results. \n",
    "\n",
    "If you want to experiment with changing values in a cell then be sure to use the *Cell->Run All Above* option from the menu.  "
   ]
  },
  {
   "cell_type": "markdown",
   "metadata": {},
   "source": [
    "\n",
    "# Getting Started with S3Model\n"
   ]
  },
  {
   "cell_type": "markdown",
   "metadata": {},
   "source": [
    "The course will guide you through a logical sequence for you to become familiar with S3Model components and how to use the library in your applications to build semantically rich, coherent data models. Use the course materials in the order specified to guide you through each of the models. \n",
    "\n",
    "This course provides an introduction only. To become fully versed in the use of S3Model you may consider [contacting the author](mailto:timothywayne.cook@gmail.com) for consultation.\n"
   ]
  },
  {
   "cell_type": "markdown",
   "metadata": {},
   "source": [
    "## Multi-level Models vs. Instances\n",
    "It is essential to understand that these library classes represent the S3Model Reference Model (**RM**) as defined in the specification. \n",
    "\n",
    "The instances of these classes express constraints on those **RM** classes. These constraints define a specific model that is identified by a *collision-resistant unique identifier* (CUID). Once defined, these models are immutable under the guidelines of the S3Model specifications. Since shareability is a cornerstone of the S3Model approach these models can be serialized to an XML Schema (including the semantics expressed as RDF/XML) making them easily shareable across all platforms. In the tutorials we visualize serialing the model components as XML Schema complexTypes. You do not need these to use the Python implementation but they are used internally for validation and conformance with the **RM**. \n",
    "\n",
    "In the intital tutorials linked here, we are building only model components one at a time and not as part of a complete data model. The final section of this tutorial does create a complete model. \n",
    "\n",
    "An advanced course as well as documentation for the [S3Model Translator](https://s3model.com/Translator/docs/index.html) and the [S3Model Tools Suite](https://s3model.com) *coming soon*, describe the processes for creating complete, functional data models is available at the link above. \n"
   ]
  },
  {
   "cell_type": "markdown",
   "metadata": {},
   "source": [
    "## Note on naming\n",
    "The reference implementation is in XML Schema and uses dashes as name separators for elements. In the Python library those dashes are converted to underscores."
   ]
  },
  {
   "cell_type": "markdown",
   "metadata": {},
   "source": [
    "## eXtended datatypes\n",
    "\n",
    "The **Xd** datatypes provide the capability of adding ontological, spatial and temporal semantics to simple datatypes.\n",
    "\n",
    "You should go through each of these interactive notebooks in sequence. Not all features are expressed in each notebook. Models created using S3Model can be very simple or very complex. We intend to provide a gentle introduction here. Each notebook does build on the previous notebooks. \n",
    "\n",
    "*Reference Ranges* and *Intervals* are covered in the XdQuantity examples."
   ]
  },
  {
   "cell_type": "markdown",
   "metadata": {},
   "source": [
    "1. [XdBooleanType](XdBoolean%20Examples.ipynb)"
   ]
  },
  {
   "cell_type": "markdown",
   "metadata": {},
   "source": [
    "2. [XdLinkType](XdLink%20Examples.ipynb)"
   ]
  },
  {
   "cell_type": "markdown",
   "metadata": {},
   "source": [
    "3. [XdStringType](XdString%20Examples.ipynb)"
   ]
  },
  {
   "cell_type": "markdown",
   "metadata": {},
   "source": [
    "4. [XdFileType](XdFile%20Examples.ipynb)"
   ]
  },
  {
   "cell_type": "markdown",
   "metadata": {},
   "source": [
    "5. [XdOrdinalType](XdOrdinal%20Examples.ipynb)"
   ]
  },
  {
   "cell_type": "markdown",
   "metadata": {},
   "source": [
    "6. [XdCountType](XdCount%20Examples.ipynb)"
   ]
  },
  {
   "cell_type": "markdown",
   "metadata": {},
   "source": [
    "7. [XdQuantityType](XdQuantity%20Examples.ipynb)"
   ]
  },
  {
   "cell_type": "markdown",
   "metadata": {},
   "source": [
    "8. [XdFloatType](XdFloat%20Examples.ipynb)"
   ]
  },
  {
   "cell_type": "markdown",
   "metadata": {},
   "source": [
    "10. [XdTemporalType](XdTemporal%20Examples.ipynb)"
   ]
  },
  {
   "cell_type": "markdown",
   "metadata": {},
   "source": [
    "10. [Reference Ranges and XdIntervals](RefRange%20Examples.ipynb)"
   ]
  },
  {
   "cell_type": "markdown",
   "metadata": {},
   "source": [
    "**Structures**\n",
    "\n",
    "There are actually two structural *Items*. The XdAdapterType and the ClusterType. The XdAdapter is used to wrap any of the above *XdType(s)* so it can be included in a Cluster. When an XdType is used as another attribute, such as a XdStringType being used as a XdCount.units, then it doesn't need the XdAdapterType wrapper. \n",
    "\n",
    "There is no separate tutorial for XdAdapterTypes as they are demonstrated in the ClusterType example."
   ]
  },
  {
   "cell_type": "markdown",
   "metadata": {},
   "source": [
    "1. [ClusterType](Cluster%20Examples.ipynb)"
   ]
  },
  {
   "cell_type": "markdown",
   "metadata": {},
   "source": [
    "**Meta Information**\n",
    "\n",
    "A data model is incomplete without computable meta-information to provide **provenence and trustability**. This information may include who (person, company, etc.) the data is about, who participated and in what ways, data audit trail, workflow status, attestations of snapshots, protocols used in specifying the model. The components in this section allow the modeler to build any required model to track this information. \n",
    "\n",
    "1. [PartyType](Party%20Examples.ipynb)\n",
    "2. [AuditType](Audit%20Examples.ipynb)\n",
    "3. [AttestationType](Attestation%20Examples.ipynb)\n",
    "4. [ParticipationType](Participation%20Examples.ipynb)"
   ]
  },
  {
   "cell_type": "markdown",
   "metadata": {},
   "source": [
    "The **Data Model** wrapper takes all of the above components and gathers them into one cohesive, computable, shareable document like structure. This includes meta-data concerning the design of the model such as the author, licensing, publication date, etc. \n",
    "\n",
    "This meta-data provides down-stream users of the information in related data instances the ability to fully understand the meaning of the data and do so without manual intervention, re-interpreting and retyping the meta-data. Users do not need to manually view the raw data. The full power of the XML ecosystem is available for validation and manipulation.\n",
    "\n",
    "1.  [DMType](DM%20Examples.ipynb)"
   ]
  },
  {
   "cell_type": "markdown",
   "metadata": {},
   "source": [
    "See the [**S3Model**](https://s3model.com/index.html) website for more training options. "
   ]
  },
  {
   "cell_type": "code",
   "execution_count": null,
   "metadata": {},
   "outputs": [],
   "source": []
  }
 ],
 "metadata": {
  "kernelspec": {
   "display_name": "Python 3 (ipykernel)",
   "language": "python",
   "name": "python3"
  },
  "language_info": {
   "codemirror_mode": {
    "name": "ipython",
    "version": 3
   },
   "file_extension": ".py",
   "mimetype": "text/x-python",
   "name": "python",
   "nbconvert_exporter": "python",
   "pygments_lexer": "ipython3",
   "version": "3.9.7"
  }
 },
 "nbformat": 4,
 "nbformat_minor": 2
}
