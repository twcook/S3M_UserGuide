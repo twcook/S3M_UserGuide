{
 "cells": [
  {
   "cell_type": "markdown",
   "metadata": {
    "slideshow": {
     "slide_type": "slide"
    }
   },
   "source": [
    "# Examples using the XdCountType"
   ]
  },
  {
   "cell_type": "markdown",
   "metadata": {
    "slideshow": {
     "slide_type": "slide"
    }
   },
   "source": [
    "**Set the path and import the extended datatype.**"
   ]
  },
  {
   "cell_type": "code",
   "execution_count": null,
   "metadata": {},
   "outputs": [],
   "source": [
    "import os\n",
    "# set the current working directory to the project parent.\n",
    "os.chdir(os.path.abspath(os.path.join(os.getcwd(), os.pardir)))"
   ]
  },
  {
   "cell_type": "code",
   "execution_count": null,
   "metadata": {
    "slideshow": {
     "slide_type": "fragment"
    }
   },
   "outputs": [],
   "source": [
    "from S3MPython.xdt import XdCountType, XdStringType"
   ]
  },
  {
   "cell_type": "markdown",
   "metadata": {
    "slideshow": {
     "slide_type": "slide"
    }
   },
   "source": [
    "Review the documentation of XdCountType."
   ]
  },
  {
   "cell_type": "code",
   "execution_count": null,
   "metadata": {
    "scrolled": false,
    "slideshow": {
     "slide_type": "slide"
    }
   },
   "outputs": [],
   "source": [
    "help(XdCountType)"
   ]
  },
  {
   "cell_type": "markdown",
   "metadata": {
    "slideshow": {
     "slide_type": "slide"
    }
   },
   "source": [
    "Create a XdCount model instance. We must provide a *label* as required for all Xd Types. \n",
    "\n",
    "We also need a units object which is a XdStringType. Usually the modeler will provide a selection of options, as enumerations, for the end-user to choose from when selecting a units value. With XdCountTypes though there is often only one type of unit allowed. \n",
    "\n",
    "In our contrived model here we will count widgets and they can be recorded in individuals, dozens or cases. This is so you can see the flexibility in modeling. The word *cases* will only make sense if you provide context; how many widgets are in a case?"
   ]
  },
  {
   "cell_type": "code",
   "execution_count": null,
   "metadata": {},
   "outputs": [],
   "source": [
    "# create the units model\n",
    "u = XdStringType('Widgets Units')\n",
    "u.docs = \"Flag the number of widgets by individuals, dozens or cases.\"\n",
    "u.definition_url = 'https://s3model.com/widget/units'\n",
    "# create the units options\n",
    "enums = []\n",
    "enums.append(('individuals', 'https://s3model.com/widget/units#individuals'))\n",
    "enums.append(('dozens', 'https://s3model.com/widget/units#dozens'))\n",
    "enums.append(('cases', 'https://s3model.com/widget/units#cases'))\n",
    "u.enums = enums\n",
    "# publish the units model\n",
    "u.published = True\n",
    "\n",
    "# now the count model\n",
    "d = XdCountType(\"Widgets Count\")\n",
    "d.docs = \"Record the number of widgets in inventory.\"\n",
    "d.definition_url = 'https://s3model.com/widget/counts'\n",
    "d.units = u\n",
    "print(d)"
   ]
  },
  {
   "cell_type": "code",
   "execution_count": null,
   "metadata": {
    "scrolled": false
   },
   "outputs": [],
   "source": [
    "d.published = True\n",
    "print(d.getModel())"
   ]
  },
  {
   "cell_type": "markdown",
   "metadata": {},
   "source": [
    "Notice that the *xdcount-value* is constraint to be an integer. The *xdcount-units* references a MCUID. That MCUID is the complexType name for the XdStringType model is generated for the units options.\n",
    "\n",
    "This shareable model is quite large and carries a lot of information. However, that information is only recorded one time and allows for small data instances. "
   ]
  },
  {
   "cell_type": "code",
   "execution_count": null,
   "metadata": {
    "scrolled": true
   },
   "outputs": [],
   "source": [
    "# add instance data\n",
    "d.value = 25\n",
    "u.value = 'dozens'\n",
    "print(d.getXMLInstance())"
   ]
  },
  {
   "cell_type": "markdown",
   "metadata": {},
   "source": [
    "## Additional constraints\n",
    "Much of the time we will want to build models that have min/max values or restrict the total number of digits. \n",
    "The next examples cover those use cases. With these examples we will reuse a very simple units definition."
   ]
  },
  {
   "cell_type": "code",
   "execution_count": null,
   "metadata": {
    "scrolled": true
   },
   "outputs": [],
   "source": [
    "# create the units model\n",
    "u = XdStringType('Example Units')\n",
    "u.docs = \"Units for the number of things counted.\"\n",
    "u.definition_url = 'https://s3model.com/things/units'\n",
    "# create the units options\n",
    "u.default = 'Units Example'\n",
    "u.published = True\n",
    "\n",
    "# now the count model\n",
    "d = XdCountType(\"Example Count\")\n",
    "d.docs = \"A count type with an inclusive min/max value set.\"\n",
    "d.definition_url = 'https://s3model.com/examples/things'\n",
    "d.units = u\n",
    "d.min_inclusive = 0 # cannot have a negative value\n",
    "d.max_inclusive = 100 # cannot have a value over 100\n",
    "print(d)"
   ]
  },
  {
   "cell_type": "code",
   "execution_count": null,
   "metadata": {
    "scrolled": true
   },
   "outputs": [],
   "source": [
    "d.published = True\n",
    "print(d.getModel())"
   ]
  },
  {
   "cell_type": "markdown",
   "metadata": {},
   "source": [
    "In the schema fragment above, note the constraints set on the *xdcount-value* element as shown below in isolation."
   ]
  },
  {
   "cell_type": "raw",
   "metadata": {},
   "source": [
    "\n",
    "    <xs:element maxOccurs='1' minOccurs='1'  name='xdcount-value'>\n",
    "      <xs:simpleType>\n",
    "        <xs:restriction base='xs:int'>\n",
    "          <xs:minInclusive value='0'/>\n",
    "          <xs:maxInclusive value='100'/>\n",
    "        </xs:restriction>\n",
    "      </xs:simpleType>\n",
    "    </xs:element>"
   ]
  },
  {
   "cell_type": "markdown",
   "metadata": {},
   "source": [
    "## Validation\n",
    "Any value not within those constraints will trigger a validation error when there is a complete model created. **These examples are only creating fragments and cannot actually be used in validation**. However we do check that the stub is well formed XML."
   ]
  },
  {
   "cell_type": "code",
   "execution_count": null,
   "metadata": {},
   "outputs": [],
   "source": [
    "d.value = 90\n",
    "u.value = 'things'\n",
    "print(d.getXMLInstance())"
   ]
  },
  {
   "cell_type": "markdown",
   "metadata": {},
   "source": [
    "Notice above that the XdXtringType for te units is wrapped by the *xdcount-units* element."
   ]
  }
 ],
 "metadata": {
  "kernelspec": {
   "display_name": "Python 3",
   "language": "python",
   "name": "python3"
  },
  "language_info": {
   "codemirror_mode": {
    "name": "ipython",
    "version": 3
   },
   "file_extension": ".py",
   "mimetype": "text/x-python",
   "name": "python",
   "nbconvert_exporter": "python",
   "pygments_lexer": "ipython3",
   "version": "3.7.3"
  }
 },
 "nbformat": 4,
 "nbformat_minor": 2
}
