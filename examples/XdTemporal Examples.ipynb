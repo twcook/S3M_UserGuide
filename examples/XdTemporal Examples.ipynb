{
 "cells": [
  {
   "cell_type": "markdown",
   "metadata": {
    "slideshow": {
     "slide_type": "slide"
    }
   },
   "source": [
    "# Examples using the XdTemporalType"
   ]
  },
  {
   "cell_type": "markdown",
   "metadata": {
    "slideshow": {
     "slide_type": "slide"
    }
   },
   "source": [
    "**Set the path and import the extended datatype.**"
   ]
  },
  {
   "cell_type": "code",
   "execution_count": null,
   "metadata": {},
   "outputs": [],
   "source": [
    "import os\n",
    "# set the current working directory to the project parent.\n",
    "os.chdir(os.path.abspath(os.path.join(os.getcwd(), os.pardir)))"
   ]
  },
  {
   "cell_type": "code",
   "execution_count": null,
   "metadata": {
    "slideshow": {
     "slide_type": "fragment"
    }
   },
   "outputs": [],
   "source": [
    "import datetime\n",
    "from S3MPython.xdt import XdTemporalType"
   ]
  },
  {
   "cell_type": "markdown",
   "metadata": {
    "slideshow": {
     "slide_type": "slide"
    }
   },
   "source": [
    "Review the documentation of XdRatioType."
   ]
  },
  {
   "cell_type": "code",
   "execution_count": null,
   "metadata": {
    "scrolled": true,
    "slideshow": {
     "slide_type": "slide"
    }
   },
   "outputs": [],
   "source": [
    "help(XdTemporalType)"
   ]
  },
  {
   "cell_type": "markdown",
   "metadata": {
    "slideshow": {
     "slide_type": "slide"
    }
   },
   "source": [
    "Create a XdTemporal instance and provide a *label* as per all Xd Types. Require a full ISO date and disallow all other temporals. "
   ]
  },
  {
   "cell_type": "code",
   "execution_count": null,
   "metadata": {},
   "outputs": [],
   "source": [
    "d = XdTemporalType(\"A Date Only\")\n",
    "d.docs = \"Require a full date. Disallow all others.\"\n",
    "d.definition_url = 'http://s3model.com/examples/dates'\n",
    "d.cardinality = ('date', [1,1])\n",
    "d.cardinality = ('time', [0,0])\n",
    "d.cardinality = ('datetime', [0,0])\n",
    "d.cardinality = ('day', [0,0])\n",
    "d.cardinality = ('month', [0,0])\n",
    "d.cardinality = ('year', [0,0])\n",
    "d.cardinality = ('year_month', [0,0])\n",
    "d.cardinality = ('month_day', [0,0])\n",
    "d.cardinality = ('duration', [0,0])\n",
    "print(d)\n",
    "print('\\n\\n')\n",
    "d.published = True\n",
    "print(d.getModel())"
   ]
  },
  {
   "cell_type": "markdown",
   "metadata": {
    "slideshow": {
     "slide_type": "slide"
    }
   },
   "source": [
    "Allow a full ISO date or year_month and disallow all other temporals. Note that it is non-sensical to **require** an attribute and then allow others. "
   ]
  },
  {
   "cell_type": "code",
   "execution_count": null,
   "metadata": {},
   "outputs": [],
   "source": [
    "d = XdTemporalType(\"Date or Month/Year\")\n",
    "d.docs = \"Allow Date or Month/Year. Disallow all others.\"\n",
    "d.definition_url = 'http://s3model.com/examples/dates'\n",
    "d.cardinality = ('date', [0,1])\n",
    "d.cardinality = ('time', [0,0])\n",
    "d.cardinality = ('datetime', [0,0])\n",
    "d.cardinality = ('day', [0,0])\n",
    "d.cardinality = ('month', [0,0])\n",
    "d.cardinality = ('year', [0,0])\n",
    "d.cardinality = ('year_month', [0,1])\n",
    "d.cardinality = ('month_day', [0,0])\n",
    "d.cardinality = ('duration', [0,0])\n",
    "print(d)\n",
    "print('\\n\\n')\n",
    "d.published = True\n",
    "print(d.getModel())"
   ]
  },
  {
   "cell_type": "code",
   "execution_count": null,
   "metadata": {
    "scrolled": true
   },
   "outputs": [],
   "source": [
    "print(d, '\\n\\n')\n",
    "\n",
    "# Set a date value\n",
    "d.date = datetime.date.today()\n",
    "print(d.getXMLInstance())"
   ]
  },
  {
   "cell_type": "code",
   "execution_count": null,
   "metadata": {
    "scrolled": true
   },
   "outputs": [],
   "source": [
    "# set a (year,month) value based on the date\n",
    "d.year_month = (d.date.year, d.date.month)\n",
    "\n",
    "# for demo purposes reset the date value so we only get one type of data\n",
    "d.date = None\n",
    "\n",
    "print(d.getXMLInstance())"
   ]
  }
 ],
 "metadata": {
  "kernelspec": {
   "display_name": "Python 3",
   "language": "python",
   "name": "python3"
  },
  "language_info": {
   "codemirror_mode": {
    "name": "ipython",
    "version": 3
   },
   "file_extension": ".py",
   "mimetype": "text/x-python",
   "name": "python",
   "nbconvert_exporter": "python",
   "pygments_lexer": "ipython3",
   "version": "3.7.3"
  }
 },
 "nbformat": 4,
 "nbformat_minor": 2
}
