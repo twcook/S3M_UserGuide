{
 "cells": [
  {
   "cell_type": "markdown",
   "metadata": {
    "slideshow": {
     "slide_type": "slide"
    }
   },
   "source": [
    "# Examples using the XdLinkType"
   ]
  },
  {
   "cell_type": "markdown",
   "metadata": {
    "slideshow": {
     "slide_type": "slide"
    }
   },
   "source": [
    "**Set the path and import the extended datatype.**"
   ]
  },
  {
   "cell_type": "code",
   "execution_count": null,
   "metadata": {},
   "outputs": [],
   "source": [
    "import os\n",
    "# set the current working directory to the project parent.\n",
    "os.chdir(os.path.abspath(os.path.join(os.getcwd(), os.pardir)))"
   ]
  },
  {
   "cell_type": "code",
   "execution_count": null,
   "metadata": {
    "slideshow": {
     "slide_type": "fragment"
    }
   },
   "outputs": [],
   "source": [
    "from S3MPython.xdt import XdLinkType\n",
    "from S3MPython.utils import random_dtstr"
   ]
  },
  {
   "cell_type": "markdown",
   "metadata": {
    "slideshow": {
     "slide_type": "slide"
    }
   },
   "source": [
    "Review the documentation of XdLinkType.\n"
   ]
  },
  {
   "cell_type": "code",
   "execution_count": null,
   "metadata": {
    "slideshow": {
     "slide_type": "slide"
    }
   },
   "outputs": [],
   "source": [
    "help(XdLinkType)"
   ]
  },
  {
   "cell_type": "markdown",
   "metadata": {
    "slideshow": {
     "slide_type": "slide"
    }
   },
   "source": [
    "Create a XdLink model instance. The model may specify a harded coded link or leave the link available for later as data to be supplied by the application. This option is controlled by the 'fixed' attribute.\n",
    "\n",
    "In this case we are going to set a 'fixed' link value to another S3Model datamodel with a semantic reference as to why these are linked. This requires setting the 'fixed' attribute to True before adding it."
   ]
  },
  {
   "cell_type": "code",
   "execution_count": null,
   "metadata": {
    "slideshow": {
     "slide_type": "fragment"
    }
   },
   "outputs": [],
   "source": [
    "d = XdLinkType('Related DM')\n",
    "d.fixed = True\n",
    "d.relation_uri = \"http://purl.obolibrary.org/obo/BFO_0000063\" # semantic reference to the relation\n",
    "d.relation = \"inSubset\" # human readable relation\n",
    "d.link = \"https://s3model.com/dmlib/dm-cjmuxu61q0000z98p91fewlhm\" # the model re are linking to."
   ]
  },
  {
   "cell_type": "markdown",
   "metadata": {
    "slideshow": {
     "slide_type": "slide"
    }
   },
   "source": [
    "Add documentation about the model. You may insert a linebreak using '\\n' any place in the string.\n",
    "This documentation is for human consumption. You should be as verbose as required to inform future users of your model about its intent."
   ]
  },
  {
   "cell_type": "code",
   "execution_count": null,
   "metadata": {
    "slideshow": {
     "slide_type": "fragment"
    }
   },
   "outputs": [],
   "source": [
    "d.docs = \"Provide a meaningful link to another S3Model DM\""
   ]
  },
  {
   "cell_type": "markdown",
   "metadata": {
    "slideshow": {
     "slide_type": "slide"
    }
   },
   "source": [
    "# Ontological Semantics (part 1)\n",
    "It is important to understand the relationship between the model and what the model is about. \n",
    "\n",
    "tl;dr The unique ID *mcuid* is a synonym for the *label* which is the *Subject* of the *SPO triple*."
   ]
  },
  {
   "cell_type": "markdown",
   "metadata": {
    "slideshow": {
     "slide_type": "slide"
    }
   },
   "source": [
    "Add a defining URL for the model. This will be translated into machine processable instructions in RDF. This URL should define or describe the value expressed in the *label*. Again, these tutorials will often used contrived references when they are not the teaching point in the tutorial."
   ]
  },
  {
   "cell_type": "code",
   "execution_count": null,
   "metadata": {
    "slideshow": {
     "slide_type": "slide"
    }
   },
   "outputs": [],
   "source": [
    "d.definition_url = 'https://s3model.com/examples'"
   ]
  },
  {
   "cell_type": "markdown",
   "metadata": {
    "slideshow": {
     "slide_type": "slide"
    }
   },
   "source": [
    "Check the ouput signature by printing a model instance. \n",
    "\n",
    "It prints the class type, label and unique ID. This is common across all extended datatypes."
   ]
  },
  {
   "cell_type": "code",
   "execution_count": null,
   "metadata": {
    "scrolled": true,
    "slideshow": {
     "slide_type": "fragment"
    }
   },
   "outputs": [],
   "source": [
    "print(d)"
   ]
  },
  {
   "cell_type": "markdown",
   "metadata": {
    "slideshow": {
     "slide_type": "slide"
    }
   },
   "source": [
    "# Ontological Semantics (part 2)\n",
    "In addition to the defining_url we can add more RDF semantics to the model for machine processing. \n",
    "\n",
    "We do this by passing in tuples with a predicate/object pair. \n",
    "These are part of the RDF subject, predicate, object triple concept. This is the foundation of semantic graph data. If you aren't familiar with these concepts then see: http://www.linkeddatatools.com/introducing-rdf "
   ]
  },
  {
   "cell_type": "markdown",
   "metadata": {},
   "source": [
    "If you aren't using your own vocabulary for semantic markup. Or even if you are for part of your semantics. It is a good practice to reuse publically available and commonly used vocabularies as they apply to your model. A great place to start finding vocabularies is at https://lov.linkeddata.es/dataset/lov "
   ]
  },
  {
   "cell_type": "markdown",
   "metadata": {
    "slideshow": {
     "slide_type": "slide"
    }
   },
   "source": [
    "In S3Model, the model component which is defined by the unique ID *mcuid*, is the Subject. \n",
    "So here we are adding a predicate and an object to give enhanced meaning to our model. \n",
    "The unique ID *mcuid* is a synonym for the *label*.\n",
    "\n",
    "When you review the XSD fragment model below, you can see that some default RDF is already added. The statements that connect this model to the S3Model ontology as well as the label and comment statements. The additional predicate/object pairs are added below those."
   ]
  },
  {
   "cell_type": "code",
   "execution_count": null,
   "metadata": {
    "slideshow": {
     "slide_type": "fragment"
    }
   },
   "outputs": [],
   "source": [
    "d.pred_obj_list = ('sem:subTypeOf','https://s3model.com/dmlib/dm-cjmuxu61q0000z98p91fewlhm')\n",
    "# We must publish the model before being able to produced an XSD model\n",
    "d.published = True"
   ]
  },
  {
   "cell_type": "markdown",
   "metadata": {
    "slideshow": {
     "slide_type": "slide"
    }
   },
   "source": [
    "Review the XSD model. \n",
    "Note how the RDF is embeded along with the validation instructions. This provides a single file (when combined with all the other parts of a DMType) that is sharable as the author chooses; globally, a company or other defined audience. \n",
    "\n",
    "This approach completely informs the receiver of the meaning of each component. Both in human-readable as well as machine processable forms. This then pre-cludes downstream user from needing to interpret READMEs, etc. and manually add those semantics. It also empowers potential secondary data users to better understand if the data is really appropriate for their needs."
   ]
  },
  {
   "cell_type": "code",
   "execution_count": null,
   "metadata": {
    "scrolled": true,
    "slideshow": {
     "slide_type": "slide"
    }
   },
   "outputs": [],
   "source": [
    "print(d.getModel())"
   ]
  },
  {
   "cell_type": "markdown",
   "metadata": {
    "slideshow": {
     "slide_type": "slide"
    }
   },
   "source": [
    "View an example XML fragment for the above model."
   ]
  },
  {
   "cell_type": "code",
   "execution_count": null,
   "metadata": {
    "scrolled": false,
    "slideshow": {
     "slide_type": "fragment"
    }
   },
   "outputs": [],
   "source": [
    "print(d.getXMLInstance(False))"
   ]
  },
  {
   "cell_type": "markdown",
   "metadata": {
    "slideshow": {
     "slide_type": "slide"
    }
   },
   "source": [
    "View an example JSON fragment."
   ]
  },
  {
   "cell_type": "code",
   "execution_count": null,
   "metadata": {
    "scrolled": false,
    "slideshow": {
     "slide_type": "fragment"
    }
   },
   "outputs": [],
   "source": [
    "print(d.getJSONInstance())"
   ]
  },
  {
   "cell_type": "markdown",
   "metadata": {},
   "source": [
    "# Cardinality and additional Semantics\n",
    "Recall that models are immutable once we have 'published' them and generated a shareable schema. Therefore when we make changes to a model we need to create a new model instance with a new *mcuid*. \n",
    "\n",
    "We are going to change some values below to demonstrate additional capabilities; therefore we create a new model instance here. \n",
    "\n",
    "This scenario we are going to create a model that that provides the capability to point to an IP Address of a data source. In this case, each data instance must provide the IP Address of an IoT device."
   ]
  },
  {
   "cell_type": "code",
   "execution_count": null,
   "metadata": {
    "slideshow": {
     "slide_type": "fragment"
    }
   },
   "outputs": [],
   "source": [
    "d = XdLinkType('Data Source')\n",
    "d.relation = 'IPaddress'\n",
    "d.relation_uri = \"https://w3id.org/saref4ee#IPaddress\"\n",
    "d.docs = \"Link the ipaddress of the data source of a device.\"\n",
    "d.definition_url = 'https://s3model.com/examples/IoT'"
   ]
  },
  {
   "cell_type": "markdown",
   "metadata": {
    "slideshow": {
     "slide_type": "slide"
    }
   },
   "source": [
    "\n",
    "# Temporal Semantics\n",
    "As discussed on a previous example. The **temporal and spatial semantics** are managed via the cardinality dictionary. Review the XSD fragment above and note that they are allowed but not required, in any data via their presence and the minOccurs=\"0\". \n",
    "\n",
    "However the modeler can require them by setting the minOccurs in the cardinality dictionary. Let's require a Valid Time Begin (vtb) and a Valid Time End (vte). We will also require the 'link', in this case an IP Address. \n",
    "\n",
    "Review the docs on the cardinality setter. Then review the model and the data."
   ]
  },
  {
   "cell_type": "code",
   "execution_count": null,
   "metadata": {
    "slideshow": {
     "slide_type": "fragment"
    }
   },
   "outputs": [],
   "source": [
    "d.cardinality = ('vtb', [1,1])\n",
    "d.cardinality = ('vte', [1,1])\n",
    "d.cardinality = ('link', [1,1])\n",
    "print(d.cardinality)"
   ]
  },
  {
   "cell_type": "markdown",
   "metadata": {
    "slideshow": {
     "slide_type": "slide"
    }
   },
   "source": [
    "Now we see in the model instance below that these two elements have a *minOccurs* set to 1 making them required in the data. "
   ]
  },
  {
   "cell_type": "code",
   "execution_count": null,
   "metadata": {
    "scrolled": true,
    "slideshow": {
     "slide_type": "slide"
    }
   },
   "outputs": [],
   "source": [
    "d.published = True\n",
    "print(d.getModel())"
   ]
  },
  {
   "cell_type": "code",
   "execution_count": null,
   "metadata": {
    "scrolled": false,
    "slideshow": {
     "slide_type": "slide"
    }
   },
   "outputs": [],
   "source": [
    "# set the required data\n",
    "d.link = '192.1.0.24'\n",
    "d.vtb = random_dtstr() # a function to return a random datetime string\n",
    "d.vte = random_dtstr()\n",
    "print(d.getXMLInstance())"
   ]
  },
  {
   "cell_type": "code",
   "execution_count": null,
   "metadata": {
    "slideshow": {
     "slide_type": "fragment"
    }
   },
   "outputs": [],
   "source": [
    "# Create a new model instance for the next example.\n",
    "d = XdLinkType('Data Source')\n",
    "d.relation = 'IPaddress'\n",
    "d.relation_uri = \"https://w3id.org/saref4ee#IPaddress\"\n",
    "d.docs = \"Link the ipaddress of the data source of a device.\"\n",
    "d.definition_url = 'https://s3model.com/examples/IoT'\n",
    "print(d, '\\n', d.docs)"
   ]
  },
  {
   "cell_type": "markdown",
   "metadata": {
    "slideshow": {
     "slide_type": "slide"
    }
   },
   "source": [
    "# Spatial Semantics\n",
    "In S3Model we only provide *latitude* and *longitude* for each XdType. \n",
    "\n",
    "Modeling altitude is a complex model based on the context. Therefore altitude should be modeled as a XdQuantity or possibly a Cluster of XdQuantity models to accommodate pressure, temperature, altitude and the contextual measurement units. \n",
    "\n",
    "Both *latitude* and *longitude* are set with one cardinality setting called *location*."
   ]
  },
  {
   "cell_type": "code",
   "execution_count": null,
   "metadata": {
    "slideshow": {
     "slide_type": "slide"
    }
   },
   "outputs": [],
   "source": [
    "d.cardinality = ('vtb', [1,1])\n",
    "d.cardinality = ('vte', [1,1])\n",
    "d.cardinality = ('link', [1,1])\n",
    "d.cardinality = ('location', [1,1])\n",
    "print(d.cardinality)"
   ]
  },
  {
   "cell_type": "code",
   "execution_count": null,
   "metadata": {
    "scrolled": false,
    "slideshow": {
     "slide_type": "slide"
    }
   },
   "outputs": [],
   "source": [
    "d.published = True\n",
    "print(d.getModel())"
   ]
  },
  {
   "cell_type": "markdown",
   "metadata": {},
   "source": [
    "Here is the result XML instance example."
   ]
  },
  {
   "cell_type": "code",
   "execution_count": null,
   "metadata": {
    "slideshow": {
     "slide_type": "slide"
    }
   },
   "outputs": [],
   "source": [
    "# set the IP Address\n",
    "d.link = '192.1.0.24'\n",
    "# set location data\n",
    "d.latitude = '-18.644500'\n",
    "d.longitude = '-50.523309'\n",
    "d.vtb = random_dtstr()\n",
    "d.vte = random_dtstr()\n",
    "print(d.getXMLInstance())"
   ]
  },
  {
   "cell_type": "code",
   "execution_count": null,
   "metadata": {},
   "outputs": [],
   "source": [
    "# a JSON instance\n",
    "print(d.getJSONInstance())"
   ]
  }
 ],
 "metadata": {
  "kernelspec": {
   "display_name": "Python 3",
   "language": "python",
   "name": "python3"
  },
  "language_info": {
   "codemirror_mode": {
    "name": "ipython",
    "version": 3
   },
   "file_extension": ".py",
   "mimetype": "text/x-python",
   "name": "python",
   "nbconvert_exporter": "python",
   "pygments_lexer": "ipython3",
   "version": "3.7.3"
  }
 },
 "nbformat": 4,
 "nbformat_minor": 2
}
