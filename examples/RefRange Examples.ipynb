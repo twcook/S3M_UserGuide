{
 "cells": [
  {
   "cell_type": "markdown",
   "metadata": {
    "slideshow": {
     "slide_type": "slide"
    }
   },
   "source": [
    "# Examples using the ReferenceRangeType & XdIntervalType"
   ]
  },
  {
   "cell_type": "markdown",
   "metadata": {
    "slideshow": {
     "slide_type": "slide"
    }
   },
   "source": [
    "**Set the path and import the extended datatype.**"
   ]
  },
  {
   "cell_type": "code",
   "execution_count": null,
   "metadata": {},
   "outputs": [],
   "source": [
    "import os\n",
    "# set the current working directory to the project parent.\n",
    "os.chdir(os.path.abspath(os.path.join(os.getcwd(), os.pardir)))"
   ]
  },
  {
   "cell_type": "code",
   "execution_count": null,
   "metadata": {
    "slideshow": {
     "slide_type": "fragment"
    }
   },
   "outputs": [],
   "source": [
    "from decimal import Decimal\n",
    "from S3MPython.utils import xsdstub, xmlstub\n",
    "from S3MPython.xdt import XdQuantityType, XdStringType, XdIntervalType, ReferenceRangeType"
   ]
  },
  {
   "cell_type": "markdown",
   "metadata": {
    "slideshow": {
     "slide_type": "slide"
    }
   },
   "source": [
    "Review the documentation of XdIntervalType."
   ]
  },
  {
   "cell_type": "code",
   "execution_count": null,
   "metadata": {
    "scrolled": false,
    "slideshow": {
     "slide_type": "slide"
    }
   },
   "outputs": [],
   "source": [
    "help(XdIntervalType)"
   ]
  },
  {
   "cell_type": "markdown",
   "metadata": {
    "slideshow": {
     "slide_type": "slide"
    }
   },
   "source": [
    "Review the documentation of ReferenceRangeType."
   ]
  },
  {
   "cell_type": "code",
   "execution_count": null,
   "metadata": {
    "scrolled": false,
    "slideshow": {
     "slide_type": "slide"
    }
   },
   "outputs": [],
   "source": [
    "help(ReferenceRangeType)"
   ]
  },
  {
   "cell_type": "markdown",
   "metadata": {
    "slideshow": {
     "slide_type": "slide"
    }
   },
   "source": [
    "[Reference ranges](https://en.wikipedia.org/wiki/Reference_range) can be used with any Ordered type. \n",
    "\n",
    "In this tutorial we will use a XdQuantityType model instance to build a model for recording [Total cholesterol](https://en.wikipedia.org/wiki/Reference_ranges_for_blood_tests#Lipids). A real world example would build a Cluster for the entire Lipids table shown from the previous link. We also assume that this is part of a full electronic record and the person's date of birth (age) and sex (male/female) are recorded elsewhere. Normally the semantic definitions will be related directly to accepted clinical guidelines, not Wikipedia, etc. links as we do here for simplicity.\n",
    "\n",
    "We need a units object to select either; mmol/L or mg/dL. \n",
    "\n",
    "We need six reference ranges, one for each units choice available and one for each range; desireable, borderline and high. Ideally there will be reference ranges defined for each age group as well as by sex. That is overkill for our basic tutorial purposes.\n"
   ]
  },
  {
   "cell_type": "code",
   "execution_count": null,
   "metadata": {},
   "outputs": [],
   "source": [
    "# create the units model\n",
    "u = XdStringType('Concentration Units')\n",
    "u.docs = \"Select the concentration units.\"\n",
    "u.definition_url = 'https://chem.libretexts.org/Textbook_Maps/Analytical_Chemistry/Book%3A_Analytical_Chemistry_2.0_(Harvey)/02_Basic_Tools_of_Analytical_Chemistry/2.2%3A_Concentration'\n",
    "# create the units options\n",
    "enums = []\n",
    "enums.append(('mmol/L', 'https://en.wikipedia.org/wiki/Molar_concentration#Units/mmol/L'))\n",
    "enums.append(('mg/dL', 'https://en.wikipedia.org/wiki/Molar_concentration#Units/mg/dL'))\n",
    "# note that we need to create URIs for each unit since they often do not exist\n",
    "u.enums = enums\n",
    "u.published = True\n",
    "\n",
    "print(u)"
   ]
  },
  {
   "cell_type": "code",
   "execution_count": null,
   "metadata": {},
   "outputs": [],
   "source": [
    "# Create the Quantity model\n",
    "d = XdQuantityType(\"Total Cholesterol\")\n",
    "d.docs = \"Record the concentration of cholesterol.\"\n",
    "d.definition_url = 'https://en.wikipedia.org/wiki/Cholesterol#Cholesterol_testing'\n",
    "d.units = u\n",
    "d.min_inclusive = 0  # can't have a negative amount\n",
    "d.max_inclusive = 500  # this would clearly be out of range\n",
    "d.fraction_digits = 1 # limit the decimal places\n",
    "d.total_digits = 5\n",
    "\n",
    "print(d)"
   ]
  },
  {
   "cell_type": "code",
   "execution_count": null,
   "metadata": {},
   "outputs": [],
   "source": [
    "# define reference ranges and intervals for the Desireable range\n",
    "mmol = ReferenceRangeType(\"Total Cholesterol Desireable Range (mmol/L)\")\n",
    "mmol.definition_url = 'https://www.mayoclinic.org/tests-procedures/cholesterol-test/about/pac-20384601#desireable/mmol'\n",
    "mmol.is_normal = True # this is considered the normal/desired range\n",
    "\n",
    "i = XdIntervalType(\"TCDR (mmol/L)\", Decimal)\n",
    "i.interval_units = ('mmol/L','https://en.wikipedia.org/wiki/Molar_concentration#Units/mmol/L')\n",
    "i.definition_url = 'https://www.mayoclinic.org/tests-procedures/cholesterol-test/interval'\n",
    "\n",
    "# be sure to pass upper/lower as a string. It is coerced into the correct type upon assignment\n",
    "i.lower = '0'\n",
    "i.upper = '5.2'\n",
    "i.upper_included = False\n",
    "i.published = True\n",
    "\n",
    "mmol.interval = i\n",
    "mmol.published = True\n",
    "d.referenceranges = mmol\n",
    "\n",
    "print(i) # the XdIntervalType model\n",
    "print(mmol) # the Reference range model"
   ]
  },
  {
   "cell_type": "code",
   "execution_count": null,
   "metadata": {},
   "outputs": [],
   "source": [
    "mg = ReferenceRangeType(\"Total Cholesterol Desireable Range (mg/dL)\")\n",
    "mg.definition_url = 'https://www.mayoclinic.org/tests-procedures/cholesterol-test/about/pac-20384601#desireable/mg'\n",
    "mg.is_normal = True # this is considered the normal/desired range\n",
    "i = XdIntervalType(\"TCDR (mg/dL)\", Decimal)\n",
    "i.interval_units = ('mg/dL','https://en.wikipedia.org/wiki/Molar_concentration#Units/mg/dL')\n",
    "i.definition_url = 'https://www.mayoclinic.org/tests-procedures/cholesterol-test/interval'\n",
    "\n",
    "i.lower = '0'\n",
    "i.upper = '200'\n",
    "i.upper_included = False\n",
    "i.lower_included = False\n",
    "i.published = True\n",
    "mg.interval = i\n",
    "mg.published = True\n",
    "d.referenceranges = mg\n",
    "\n",
    "print(i)\n",
    "print(mg)"
   ]
  },
  {
   "cell_type": "code",
   "execution_count": null,
   "metadata": {},
   "outputs": [],
   "source": [
    "# define two reference ranges for the Borderline high range\n",
    "mmol = ReferenceRangeType(\"Total Cholesterol Borderline high Range (mmol/L)\")\n",
    "mmol.definition_url = 'https://www.mayoclinic.org/tests-procedures/cholesterol-test/about/pac-20384601#Borderlinehigh/mmol'\n",
    "i = XdIntervalType(\"TCBR (mmol/L)\", Decimal)\n",
    "i.interval_units = ('mmol/L','https://en.wikipedia.org/wiki/Molar_concentration#Units/mmol/L')\n",
    "i.definition_url = 'https://www.mayoclinic.org/tests-procedures/cholesterol-test/interval'\n",
    "\n",
    "i.lower = '5.2'\n",
    "i.upper = '6.2'\n",
    "i.upper_included = True\n",
    "i.lower_included = True\n",
    "i.published = True\n",
    "mmol.interval = i\n",
    "mmol.published = True\n",
    "d.referenceranges = mmol\n",
    "\n",
    "\n",
    "print(i)\n",
    "print(mmol)"
   ]
  },
  {
   "cell_type": "code",
   "execution_count": null,
   "metadata": {},
   "outputs": [],
   "source": [
    "mg = ReferenceRangeType(\"Total Cholesterol Borderline high Range (mg/dL)\")\n",
    "mg.definition_url = 'https://www.mayoclinic.org/tests-procedures/cholesterol-test/about/pac-20384601#Borderlinehigh/mg'\n",
    "i = XdIntervalType(\"TCBR (mg/dL)\", Decimal)\n",
    "i.interval_units = ('mg/dL','https://en.wikipedia.org/wiki/Molar_concentration#Units/mg/dL')\n",
    "i.definition_url = 'https://www.mayoclinic.org/tests-procedures/cholesterol-test/interval'\n",
    "\n",
    "i.lower = '200'\n",
    "i.upper = '239'\n",
    "i.upper_included = True\n",
    "i.lower_included = True\n",
    "i.published = True\n",
    "mg.interval = i\n",
    "mg.published = True\n",
    "d.referenceranges = mg\n",
    "\n",
    "print(i)\n",
    "print(mg)"
   ]
  },
  {
   "cell_type": "code",
   "execution_count": null,
   "metadata": {},
   "outputs": [],
   "source": [
    "# define two reference ranges for the High range\n",
    "mmol = ReferenceRangeType(\"Total Cholesterol High Range (mmol/L)\")\n",
    "mmol.definition_url = 'https://www.mayoclinic.org/tests-procedures/cholesterol-test/about/pac-20384601#high/mmol'\n",
    "i = XdIntervalType(\"TCHR (mmol/L)\", Decimal)\n",
    "i.interval_units = ('mmol/L','https://en.wikipedia.org/wiki/Molar_concentration#Units/mmol/L')\n",
    "i.definition_url = 'https://www.mayoclinic.org/tests-procedures/cholesterol-test/interval'\n",
    "\n",
    "i.lower = '6.2'\n",
    "i.lower_included = False\n",
    "i.upper_bounded = False\n",
    "i.published = True\n",
    "mmol.interval = i\n",
    "mmol.published = True\n",
    "d.referenceranges = mmol\n",
    "\n",
    "\n",
    "print(i)\n",
    "print(mmol)"
   ]
  },
  {
   "cell_type": "code",
   "execution_count": null,
   "metadata": {},
   "outputs": [],
   "source": [
    "mg = ReferenceRangeType(\"Total Cholesterol High Range (mg/dL)\")\n",
    "mg.definition_url = 'https://www.mayoclinic.org/tests-procedures/cholesterol-test/about/pac-20384601#high/mg'\n",
    "i = XdIntervalType(\"TCHR (mg/dL)\", Decimal)\n",
    "i.interval_units = ('mg/dL','https://en.wikipedia.org/wiki/Molar_concentration#Units/mg/dL')\n",
    "i.definition_url = 'https://www.mayoclinic.org/tests-procedures/cholesterol-test/interval'\n",
    "\n",
    "i.lower = '240'\n",
    "i.lower_included = False\n",
    "i.upper_bounded = False\n",
    "i.published = True\n",
    "mg.interval = i\n",
    "mg.published = True\n",
    "d.referenceranges = mg\n",
    "d.published = True\n",
    "\n",
    "print(i)\n",
    "print(mg)\n",
    "print(d)"
   ]
  },
  {
   "cell_type": "markdown",
   "metadata": {},
   "source": [
    "Examine the model. Here we write the model stub (it is not a complete S3Model Data Model) as a file named stub.xsd. "
   ]
  },
  {
   "cell_type": "code",
   "execution_count": null,
   "metadata": {
    "scrolled": false
   },
   "outputs": [],
   "source": [
    "xsdstub(d)"
   ]
  },
  {
   "cell_type": "markdown",
   "metadata": {},
   "source": [
    "When you view the XML Schema model notice that the required namespaces are wrapped using a *root* element. This *root* element is not part of S3Model. It is only used here so that we can demonstrate validation of the generated stub.xml below. \n",
    "\n",
    "We need to add data before creating a XML instance.  \n"
   ]
  },
  {
   "cell_type": "code",
   "execution_count": null,
   "metadata": {
    "scrolled": true
   },
   "outputs": [],
   "source": [
    "# Select a valid units value\n",
    "d.units.value = 'mg/dL'\n",
    "# enter a value\n",
    "d.value = 123.4\n",
    "\n",
    "xmlstub(d)"
   ]
  },
  {
   "cell_type": "markdown",
   "metadata": {},
   "source": [
    "There are now two files; stub.xsd and stub.xml, in your *examples* directory. You can use any XML validation tool on stub.xml to validate it against stub.xsd."
   ]
  }
 ],
 "metadata": {
  "kernelspec": {
   "display_name": "Python 3",
   "language": "python",
   "name": "python3"
  },
  "language_info": {
   "codemirror_mode": {
    "name": "ipython",
    "version": 3
   },
   "file_extension": ".py",
   "mimetype": "text/x-python",
   "name": "python",
   "nbconvert_exporter": "python",
   "pygments_lexer": "ipython3",
   "version": "3.7.3"
  }
 },
 "nbformat": 4,
 "nbformat_minor": 2
}
