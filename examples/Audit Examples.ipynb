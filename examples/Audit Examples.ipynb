{
 "cells": [
  {
   "cell_type": "markdown",
   "metadata": {
    "slideshow": {
     "slide_type": "slide"
    }
   },
   "source": [
    "# Examples using the AuditType"
   ]
  },
  {
   "cell_type": "markdown",
   "metadata": {
    "slideshow": {
     "slide_type": "slide"
    }
   },
   "source": [
    "**Set the path and import the extended datatype.**"
   ]
  },
  {
   "cell_type": "code",
   "execution_count": null,
   "metadata": {},
   "outputs": [],
   "source": [
    "import os\n",
    "# set the current working directory to the project parent.\n",
    "os.chdir(os.path.abspath(os.path.join(os.getcwd(), os.pardir)))"
   ]
  },
  {
   "cell_type": "code",
   "execution_count": null,
   "metadata": {
    "slideshow": {
     "slide_type": "fragment"
    }
   },
   "outputs": [],
   "source": [
    "from S3MPython.utils import xsdstub, xmlstub, jsonstub\n",
    "from S3MPython.xdt import XdStringType\n",
    "from S3MPython.struct import ClusterType, XdAdapterType\n",
    "from S3MPython.meta import AuditType, PartyType"
   ]
  },
  {
   "cell_type": "markdown",
   "metadata": {
    "slideshow": {
     "slide_type": "slide"
    }
   },
   "source": [
    "Review the documentation of AuditType. "
   ]
  },
  {
   "cell_type": "code",
   "execution_count": null,
   "metadata": {
    "scrolled": false,
    "slideshow": {
     "slide_type": "slide"
    }
   },
   "outputs": [],
   "source": [
    "help(AuditType)"
   ]
  },
  {
   "cell_type": "markdown",
   "metadata": {
    "slideshow": {
     "slide_type": "slide"
    }
   },
   "source": [
    "Create an Audit instance and add the required *system_id, system_user and location* models."
   ]
  },
  {
   "cell_type": "code",
   "execution_count": null,
   "metadata": {
    "slideshow": {
     "slide_type": "fragment"
    }
   },
   "outputs": [],
   "source": [
    "aud = AuditType('Test Audit')\n",
    "aud.definition_url = \"https://s3model.com/examples/audit\"\n",
    "aud.docs = \"An example Audit component.\"\n",
    "\n",
    "sid = XdStringType('Test Audit System ID')\n",
    "sid.definition_url = \"https://s3model.com/examples/audit/systemid\"\n",
    "sid.docs = \"An example system id.\"\n",
    "sid.regex = '[0-9]{2}-[0-9]{1}-[0-9]{3}' # a regex for system id format \n",
    "sid.published = True\n",
    "aud.system_id = sid\n",
    "\n",
    "siu = PartyType('Test Audit System User')\n",
    "siu.definition_url = \"https://s3model.com/examples/systemuser\"\n",
    "siu.docs = \"An example Audit system user.\"\n",
    "siu.published = True\n",
    "aud.system_user = siu\n",
    "\n",
    "d = XdStringType('GPS Coordinates')\n",
    "d.docs = \"A location that requires lat/lon and a descriptive name for a value.\"\n",
    "d.definition_url = 'https://s3model.com/location'\n",
    "d.cardinality = ('location', [1,1])\n",
    "d.published = True\n",
    "a = XdAdapterType()\n",
    "a.value = d  \n",
    "\n",
    "loc = ClusterType(\"Test Audit Location\")\n",
    "loc.definition_url = \"https://s3model.com/examples/audit/location\"\n",
    "loc.docs = \"An example Audit location.\"\n",
    "loc.items = a\n",
    "loc.published = True\n",
    "aud.location = loc\n",
    "\n",
    "print(aud,'\\n')\n",
    "aud.published = True\n"
   ]
  },
  {
   "cell_type": "code",
   "execution_count": null,
   "metadata": {},
   "outputs": [],
   "source": [
    "# create stubs\n",
    "xsdstub(aud)\n",
    "xmlstub(aud, True)\n",
    "jsonstub(aud, True)"
   ]
  }
 ],
 "metadata": {
  "celltoolbar": "Slideshow",
  "kernelspec": {
   "display_name": "Python 3",
   "language": "python",
   "name": "python3"
  },
  "language_info": {
   "codemirror_mode": {
    "name": "ipython",
    "version": 3
   },
   "file_extension": ".py",
   "mimetype": "text/x-python",
   "name": "python",
   "nbconvert_exporter": "python",
   "pygments_lexer": "ipython3",
   "version": "3.7.3"
  }
 },
 "nbformat": 4,
 "nbformat_minor": 2
}
